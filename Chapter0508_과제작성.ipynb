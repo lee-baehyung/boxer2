{
  "cells": [
    {
      "cell_type": "markdown",
      "metadata": {
        "id": "view-in-github",
        "colab_type": "text"
      },
      "source": [
        "<a href=\"https://colab.research.google.com/github/lee-baehyung/boxer2/blob/main/Chapter0508_%E1%84%80%E1%85%AA%E1%84%8C%E1%85%A6%EC%9E%91%EC%84%B1.ipynb\" target=\"_parent\"><img src=\"https://colab.research.google.com/assets/colab-badge.svg\" alt=\"Open In Colab\"/></a>"
      ]
    },
    {
      "cell_type": "markdown",
      "metadata": {
        "id": "WXEwMsfUct7U"
      },
      "source": [
        "안녕하세요.<br><br>\n",
        "수강생 여러분~! Chapter05 ~ 08 수업은 잘 들으셨나요?\n",
        "\n",
        "Chapter05 ~ 08의 수업 내용을 바탕으로 아래 문제를 풀어주시면 됩니다.\n",
        "\n",
        "<br>\n",
        "\n",
        "\n",
        "[**답변 입력 방법**]\n",
        "\n",
        "문제 아래에 있는 코드 입력창에 정답코드를 작성하신 후  __▷ 버튼을 클릭해 코드를 실행__ 해보세요<br>"
      ]
    },
    {
      "cell_type": "markdown",
      "metadata": {
        "id": "qoyC9wF-3hvs"
      },
      "source": [
        "-----"
      ]
    },
    {
      "cell_type": "markdown",
      "metadata": {
        "id": "kRkp_34OgUEB"
      },
      "source": [
        "## 모험가들의 레벨업 도전\n",
        "\n",
        "### [배경 이야기]\n",
        "\n",
        "당신은 마법사, 전사, 도적, 힐러 네 명의 모험가를 이끄는 리더입니다.\n",
        "\n",
        "각 캐릭터는 힘, 민첩, 지능, 체력이라는 능력치를 가지고 있습니다. 이 능력치들을 이용해 다양한 도전을 해결하고 사냥을 통해 경험치를 얻어 레벨업을 해야 합니다.\n",
        "\n",
        "<br>\n",
        "\n",
        "### [동료 캐릭터와 능력치 정보]\n",
        "\n",
        "마법사: 힘(10), 민첩(20), 지능(80), 체력(50)\n",
        "\n",
        "전사: 힘(80), 민첩(30), 지능(20), 체력(100)\n",
        "\n",
        "도적: 힘(40), 민첩(80), 지능(30), 체력(60)\n",
        "\n",
        "힐러: 힘(20), 민첩(40), 지능(70), 체력(70)\n",
        "\n",
        "<br>\n",
        "\n",
        "* 변수명을 영어로 변경해서 풀어보세요 !"
      ]
    },
    {
      "cell_type": "markdown",
      "metadata": {
        "id": "gG2hNdBZgUEB"
      },
      "source": [
        "<br>\n",
        "\n",
        "__[문제 1: 첫 번째 사냥]__\n",
        "\n",
        "마법사는 몬스터를 사냥하기 위해 마법을 사용합니다.\n",
        "\n",
        "마법을 사용하려면 지능이 50 이상이어야 합니다.\n",
        "\n",
        "마법사의 지능이 50 이상인지 확인하세요."
      ]
    },
    {
      "cell_type": "code",
      "execution_count": 9,
      "metadata": {
        "id": "Yd169Te7gUEB",
        "colab": {
          "base_uri": "https://localhost:8080/"
        },
        "outputId": "b3ed1195-cc5e-4e13-8875-902529018435"
      },
      "outputs": [
        {
          "output_type": "stream",
          "name": "stdout",
          "text": [
            "True\n"
          ]
        }
      ],
      "source": [
        "# 마법사: 힘(10), 민첩(20), 지능(80), 체력(50)\n",
        "\n",
        "wizard_stats = {\"strength\": 10, \"agility\": 20, \"intelligence\": 80, \"stamina\": 50}\n",
        "\n",
        "print(wizard_stats[\"intelligence\"] >= 50)"
      ]
    },
    {
      "cell_type": "markdown",
      "metadata": {
        "id": "vSWxZbZMgUEC"
      },
      "source": [
        "<br>\n",
        "\n",
        "__[문제 2: 두 번째 사냥]__\n",
        "\n",
        "전사는 강력한 공격을 하기 위해 자신의 힘을 사용합니다.\n",
        "\n",
        "전사의 힘이 60 이상이고 체력이 80 이상인지 확인하세요."
      ]
    },
    {
      "cell_type": "code",
      "execution_count": 10,
      "metadata": {
        "id": "cbCXQGA_gUEC",
        "colab": {
          "base_uri": "https://localhost:8080/"
        },
        "outputId": "9ee89189-3d00-4493-d75e-d2dd0097d09c"
      },
      "outputs": [
        {
          "output_type": "stream",
          "name": "stdout",
          "text": [
            "True\n",
            "True\n"
          ]
        },
        {
          "output_type": "execute_result",
          "data": {
            "text/plain": [
              "(None, None)"
            ]
          },
          "metadata": {},
          "execution_count": 10
        }
      ],
      "source": [
        "# 전사: 힘(80), 민첩(30), 지능(20), 체력(100)\n",
        "\n",
        "warrior = {\"strength\":80, \"agility\": 30, \"intelligence\": 20, \"stamina\": 100}\n",
        "\n",
        "print(warrior[\"strength\"] >=60), print(warrior[\"stamina\"]>=80)"
      ]
    },
    {
      "cell_type": "markdown",
      "metadata": {
        "id": "5ubWe0Q4gUEC"
      },
      "source": [
        "<br>\n",
        "\n",
        "__[문제 3: 세 번째 사냥]__\n",
        "\n",
        "도적은 민첩함을 이용해 몬스터를 회피하고 공격합니다.\n",
        "\n",
        "도적의 민첩이 70 이상이거나 힘이 50 이상인지 확인하세요."
      ]
    },
    {
      "cell_type": "code",
      "execution_count": 11,
      "metadata": {
        "id": "vTWQcor9gUED",
        "colab": {
          "base_uri": "https://localhost:8080/"
        },
        "outputId": "3f39291c-2d02-4331-a1c3-6ef7ae5fd37b"
      },
      "outputs": [
        {
          "output_type": "stream",
          "name": "stdout",
          "text": [
            "True\n",
            "False\n"
          ]
        },
        {
          "output_type": "execute_result",
          "data": {
            "text/plain": [
              "(None, None)"
            ]
          },
          "metadata": {},
          "execution_count": 11
        }
      ],
      "source": [
        "#도적: 힘(40), 민첩(80), 지능(30), 체력(60)\n",
        "\n",
        "\n",
        "thief = {\"strength\": 40, \"agility\": 80, \"intelligence\": 30, \"stamina\": 60}\n",
        "\n",
        "print(thief[\"agility\"] >= 70), print(thief[\"strength\"] >= 50)"
      ]
    },
    {
      "cell_type": "markdown",
      "metadata": {
        "id": "Bigne8_JgUED"
      },
      "source": [
        "<br>\n",
        "\n",
        "__[문제 4: 네 번째 사냥]__\n",
        "\n",
        "힐러는 파티의 체력을 회복시키기 위해 마법을 사용합니다.\n",
        "\n",
        "힐러의 지능이 60 이상이고, 체력이 50 이상인지 확인하세요."
      ]
    },
    {
      "cell_type": "code",
      "execution_count": 12,
      "metadata": {
        "id": "YuVDfPzsgUED",
        "colab": {
          "base_uri": "https://localhost:8080/"
        },
        "outputId": "fa4c2d85-999e-4e03-e18c-63e6df75a354"
      },
      "outputs": [
        {
          "output_type": "stream",
          "name": "stdout",
          "text": [
            "True\n",
            "True\n"
          ]
        },
        {
          "output_type": "execute_result",
          "data": {
            "text/plain": [
              "(None, None)"
            ]
          },
          "metadata": {},
          "execution_count": 12
        }
      ],
      "source": [
        "#힐러: 힘(20), 민첩(40), 지능(70), 체력(70)\n",
        "\n",
        "healer = {\"strength\": 20, \"agility\": 40, \"intelligence\": 70, \"stamina\": 70}\n",
        "\n",
        "print(healer[\"intelligence\"] >= 60), print(healer[\"stamina\"] >= 50)"
      ]
    },
    {
      "cell_type": "markdown",
      "metadata": {
        "id": "4bugU5O2gUED"
      },
      "source": [
        "<br>\n",
        "\n",
        "__[문제 5: 레벨업]__\n",
        "\n",
        "모든 캐릭터가 사냥을 성공적으로 마쳤습니다. 이제 경험치를 얻어 레벨업을 해야 합니다.\n",
        "\n",
        "\n",
        "각 캐릭터의 경험치가 100 이상인지 print()를 이용해 확인해주세요.\n",
        "\n",
        "<br>\n",
        "\n",
        "경험치는 아래와 같습니다.\n",
        "\n",
        "마법사: 120\n",
        "\n",
        "전사: 150\n",
        "\n",
        "도적: 110\n",
        "\n",
        "힐러: 90\n",
        "\n"
      ]
    },
    {
      "cell_type": "code",
      "execution_count": 13,
      "metadata": {
        "id": "Do1ZtkxNgUED",
        "colab": {
          "base_uri": "https://localhost:8080/"
        },
        "outputId": "d5d129cf-8470-40f3-cd63-e489b71e5924"
      },
      "outputs": [
        {
          "output_type": "stream",
          "name": "stdout",
          "text": [
            "True\n",
            "True\n",
            "True\n",
            "False\n"
          ]
        },
        {
          "output_type": "execute_result",
          "data": {
            "text/plain": [
              "(None, None, None, None)"
            ]
          },
          "metadata": {},
          "execution_count": 13
        }
      ],
      "source": [
        "# 마법사 : 120, 전사 : 150, 도적 : 110, 힐러 : 90\n",
        "\n",
        "wizard_stats = 120\n",
        "warrior = 150\n",
        "thief = 110\n",
        "healer = 90\n",
        "\n",
        "print(wizard_stats >= 100), print(warrior >= 100), print(thief >= 100), print(healer >= 100)"
      ]
    }
  ],
  "metadata": {
    "colab": {
      "provenance": [],
      "include_colab_link": true
    },
    "kernelspec": {
      "display_name": "Python 3",
      "name": "python3"
    },
    "language_info": {
      "name": "python"
    }
  },
  "nbformat": 4,
  "nbformat_minor": 0
}