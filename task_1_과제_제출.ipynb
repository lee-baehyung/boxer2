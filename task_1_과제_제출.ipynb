{
  "cells": [
    {
      "cell_type": "markdown",
      "metadata": {
        "id": "view-in-github",
        "colab_type": "text"
      },
      "source": [
        "<a href=\"https://colab.research.google.com/github/lee-baehyung/boxer2/blob/main/task_1_%EA%B3%BC%EC%A0%9C_%EC%A0%9C%EC%B6%9C.ipynb\" target=\"_parent\"><img src=\"https://colab.research.google.com/assets/colab-badge.svg\" alt=\"Open In Colab\"/></a>"
      ]
    },
    {
      "cell_type": "markdown",
      "metadata": {
        "id": "zPBzj2fIzA0I"
      },
      "source": [
        "안녕하세요. 수강생 여러분~! Chapter33 ~ 41 수업은 잘 들으셨나요?\n",
        "\n",
        "Chapter33 ~ 41의 수업 내용을 바탕으로 아래 문제를 풀어주시면 됩니다.\n",
        "\n",
        "\n",
        "<br>\n",
        "\n",
        "\n",
        "[**답변 입력 방법**]\n",
        "\n",
        "문제 아래에 있는 코드 입력창에 정답코드를 작성하신 후  __▷ 버튼을 클릭해 코드를 실행__ 해보세요<br>"
      ]
    },
    {
      "cell_type": "markdown",
      "metadata": {
        "id": "KvSiWQ33zA0K"
      },
      "source": [
        "---"
      ]
    },
    {
      "cell_type": "markdown",
      "metadata": {
        "id": "UTynN3GEzA0K"
      },
      "source": [
        "[문제 1]\n",
        "\n",
        "사용자로부터 두 개의 숫자를 입력받아 나눗셈을 수행하는 프로그램을 작성하세요.\n",
        "\n",
        "[예외처리]\n",
        "- 입력 값이 숫자가 아닐 때 발생할 수 있는 ValueError\n",
        "- 나누는 수가 0일 때 발생할 수 있는 ZeroDivisionError\n",
        "- 위 2가지 예외처리 후 사용자에게 이해하기 쉬운 메시지 작성 후 출력되도록 코드를 작성"
      ]
    },
    {
      "cell_type": "code",
      "execution_count": 1,
      "metadata": {
        "colab": {
          "base_uri": "https://localhost:8080/"
        },
        "id": "CQYZGcRCzA0K",
        "outputId": "a5621ae4-40d2-4ed1-be73-e01db86c5ebb"
      },
      "outputs": [
        {
          "output_type": "stream",
          "name": "stdout",
          "text": [
            "두 개의 숫자를 입력하세요: 6 3\n",
            "6 / 3 = 2.0\n"
          ]
        }
      ],
      "source": [
        "try:\n",
        "    x, y = map(int, input(\"두 개의 숫자를 입력하세요: \").split())\n",
        "    result = x / y\n",
        "    print(f\"{x} / {y} = {result}\")\n",
        "except ValueError:\n",
        "    print(\"입력 값이 숫자가 아닙니다.\")\n",
        "except ZeroDivisionError:\n",
        "    print(\"0으로 나눌 수 없습니다.\")"
      ]
    },
    {
      "cell_type": "markdown",
      "metadata": {
        "id": "QLbYUDkQzA0L"
      },
      "source": [
        "---"
      ]
    },
    {
      "cell_type": "markdown",
      "metadata": {
        "id": "GlE4r2ZKzA0L"
      },
      "source": [
        "[문제 2]\n",
        "\n",
        "파일을 읽어서 내용을 출력하는 프로그램을 작성하세요.\n",
        "\n",
        "- 파일이 존재하지 않을 때 발생하는 FileNotFoundError를 처리\n",
        "- 파일이 존재하지 않을 경우 \"파일을 찾을 수 없습니다.\"라는 메시지를 출력"
      ]
    },
    {
      "cell_type": "code",
      "execution_count": null,
      "metadata": {
        "id": "lmDtB1VwzA0M"
      },
      "outputs": [],
      "source": [
        "try:\n",
        "    with open(filename, 'r')\n",
        "        content = file.read()\n",
        "        print(content)\n",
        "except FileNotFoundError:\n",
        "    print(f\"파일'{filename}'을 찾을 수 없습니다.\")"
      ]
    },
    {
      "cell_type": "markdown",
      "metadata": {
        "id": "KM1M4xHbzA0M"
      },
      "source": [
        "---"
      ]
    },
    {
      "cell_type": "markdown",
      "metadata": {
        "id": "4lC21h-mzA0N"
      },
      "source": [
        "[문제 3]\n",
        "\n",
        "사용자로부터 여러 개의 숫자를 입력받아 리스트에 저장한 후, 사용자가 'done'이라고 입력할 때까지 계속 입력받으세요.\n",
        "\n",
        "- 입력 중 숫자가 아닌 값이 입력되면 ValueError를 처리\n",
        "- 숫자 외 값이 입력된 경우 어떤 값이 잘못 입력되었는지 사용자에게 알려주는 문구 출력<br>\n",
        "  (예: f\"잘못된 값: {변수}. 숫자를 입력해주세요.\")\n",
        "\n"
      ]
    },
    {
      "cell_type": "code",
      "execution_count": 30,
      "metadata": {
        "colab": {
          "base_uri": "https://localhost:8080/"
        },
        "id": "FYHnfx11zA0N",
        "outputId": "0d75f4d7-d081-45eb-b2b4-e8ae874712a9"
      },
      "outputs": [
        {
          "output_type": "stream",
          "name": "stdout",
          "text": [
            "숫자를 입력하세요(끝내려면 'done' 입력):2\n",
            "숫자를 입력하세요(끝내려면 'done' 입력):4\n",
            "숫자를 입력하세요(끝내려면 'done' 입력):5\n",
            "숫자를 입력하세요(끝내려면 'done' 입력):done\n",
            "[2.0, 4.0, 5.0]\n"
          ]
        }
      ],
      "source": [
        "number = []\n",
        "\n",
        "while True:\n",
        "    user_input = input(\"숫자를 입력하세요(끝내려면 'done' 입력):\")\n",
        "\n",
        "    if user_input.lower() == 'done':\n",
        "        break\n",
        "\n",
        "    try:\n",
        "        num = float(user_input)\n",
        "        number.append(num)\n",
        "    except ValueError:\n",
        "        print(f'잘못된 값:{user_input}. 숫자를 입력해주세요.')\n",
        "\n",
        "print(number)"
      ]
    },
    {
      "cell_type": "markdown",
      "metadata": {
        "id": "a1O1YhUjzA0N"
      },
      "source": [
        "---"
      ]
    },
    {
      "cell_type": "markdown",
      "metadata": {
        "id": "6VgqTJpjzA0N"
      },
      "source": [
        "[문제 4]\n",
        "\n",
        "사용자 정의 예외 NegativeNumberError를 생성하고, 사용자로부터 숫자를 입력받아 음수일 경우 NegativeNumberError를 발생시키는 프로그램을 작성하세요.\n",
        "\n",
        "- 예외 처리 구문을 사용하여 음수 입력 시 \"양수를 입력해주세요.\"라는 메시지를 출력"
      ]
    },
    {
      "cell_type": "code",
      "execution_count": 10,
      "metadata": {
        "colab": {
          "base_uri": "https://localhost:8080/"
        },
        "id": "ZSRtBeifzA0N",
        "outputId": "387d66fa-19de-4777-bf4e-60dce738ed09"
      },
      "outputs": [
        {
          "output_type": "stream",
          "name": "stdout",
          "text": [
            "숫자를 입력하세요:-1\n",
            "양수를 입력해주세요.\n"
          ]
        }
      ],
      "source": [
        "class NegativeNumberError(Exception):\n",
        "    pass\n",
        "\n",
        "try:\n",
        "    user_input = input(\"숫자를 입력하세요:\")\n",
        "    number = float(user_input)\n",
        "\n",
        "    if number < 0:\n",
        "        raise NegativeNumberError\n",
        "\n",
        "    print(f\"입력된 숫자: {number}\")\n",
        "\n",
        "except NegativeNumberError:\n",
        "    print(\"양수를 입력해주세요.\")\n",
        "except ValueError:\n",
        "    print(f'잘못된 값: {user_input}. 숫자를 입력해주세요')"
      ]
    },
    {
      "cell_type": "markdown",
      "metadata": {
        "id": "aiAGrNdhzA0O"
      },
      "source": [
        "---"
      ]
    },
    {
      "cell_type": "markdown",
      "metadata": {
        "id": "_rZm7r7uzA0O"
      },
      "source": [
        "[문제 5]\n",
        "\n",
        "datetime 모듈을 사용하여 현재 날짜와 시간을 출력하는 프로그램을 작성하세요.\n",
        "\n",
        "또한, 사용자로부터 태어난 년도를 입력받아 현재 나이를 계산하여 출력하세요."
      ]
    },
    {
      "cell_type": "code",
      "execution_count": 23,
      "metadata": {
        "colab": {
          "base_uri": "https://localhost:8080/"
        },
        "id": "EETbce8vzA0O",
        "outputId": "d580b1e9-8acd-4083-db03-1cf7936e48c9"
      },
      "outputs": [
        {
          "output_type": "stream",
          "name": "stdout",
          "text": [
            "현재 날짜와 시간: 2025-07-17 05:54:52\n",
            "태어난 년도를 입력하세요:아르르르\n",
            "잘못된 입력입니다. 숫자형식의 연도를 입력하세요.\n"
          ]
        }
      ],
      "source": [
        "import datetime\n",
        "\n",
        "now = datetime.datetime.now()\n",
        "print(\"현재 날짜와 시간:\", now.strftime(\"%Y-%m-%d %H:%M:%S\"))\n",
        "\n",
        "try:\n",
        "    birth_year = int(input(\"태어난 년도를 입력하세요:\"))\n",
        "    current_year = current_datetime.year\n",
        "    age = current_year - birth_year\n",
        "    print(f\"현재 나이: {age}세\")\n",
        "except ValueError:\n",
        "    print(\"잘못된 입력입니다. 숫자형식의 연도를 입력하세요.\")"
      ]
    },
    {
      "cell_type": "markdown",
      "metadata": {
        "id": "BFi4HALpzA0O"
      },
      "source": [
        "---"
      ]
    },
    {
      "cell_type": "markdown",
      "metadata": {
        "id": "ZIOQF7WczA0O"
      },
      "source": [
        "[문제 6]\n",
        "\n",
        "requests 모듈을 사용하여, 웹 페이지의 HTML을 가져오는 간단한 웹 스크레이퍼를 작성하세요.\n",
        "\n",
        "'https://kream.co.kr/'에서<br>\n",
        "데이터를 가져와서 상태 코드와 HTML의 첫 100자를 출력하세요.<br>\n",
        "(실습 전 requests 모듈을 설치해야 함)"
      ]
    },
    {
      "cell_type": "code",
      "execution_count": 33,
      "metadata": {
        "colab": {
          "base_uri": "https://localhost:8080/"
        },
        "id": "7bhZDQFDzA0O",
        "outputId": "edb91a31-b946-42ab-e002-030c5d11596d"
      },
      "outputs": [
        {
          "output_type": "stream",
          "name": "stdout",
          "text": [
            "상태 코드: 500\n",
            "HTML 앞 100자: <!DOCTYPE html>\n",
            "<html lang=\"ko\">\n",
            "<head>\n",
            "<meta name=\"robots\" content=\"noindex, nofollow\" />\n",
            "<meta htt\n"
          ]
        }
      ],
      "source": [
        "import requests\n",
        "\n",
        "url = 'https://kream.co.kr/'\n",
        "\n",
        "\n",
        "response = requests.get(url)\n",
        "\n",
        "print(\"상태 코드:\", response.status_code)\n",
        "print(\"HTML 앞 100자:\", response.text[:100])"
      ]
    },
    {
      "cell_type": "markdown",
      "metadata": {
        "id": "eRpCdIDczA0O"
      },
      "source": [
        "---"
      ]
    },
    {
      "cell_type": "markdown",
      "metadata": {
        "id": "unL_BUTBzA0O"
      },
      "source": [
        "[문제 7]\n",
        "\n",
        "함수 실행 시간을 측정하는 데코레이터 timer_decorator를 작성하세요.\n",
        "\n",
        "임의의 함수가 실행되는 시간을 측정하여 \"함수 실행 시간: x.xx초\" 형태로 출력하세요."
      ]
    },
    {
      "cell_type": "code",
      "execution_count": null,
      "metadata": {
        "id": "8KfvR1zAzA0P"
      },
      "outputs": [],
      "source": [
        "import time\n",
        "\n",
        "# 흠... 답안지와 gpt에 해석에도 불구하고 코드가 작성되고 어떤원리인지 이해를 못했음"
      ]
    },
    {
      "cell_type": "markdown",
      "metadata": {
        "id": "hdivuW6dzA0P"
      },
      "source": [
        "---"
      ]
    },
    {
      "cell_type": "markdown",
      "metadata": {
        "id": "6Mg3eHW7zA0P"
      },
      "source": [
        "[문제 8]\n",
        "\n",
        "여러분이 자주 사용하는 수학적 연산<br>\n",
        "(예: 삼각형 넓이, 원의 넓이, 직육면체의 넓이)을 수행하는 함수들을 포함하는 mymath.py라는 이름의 모듈을 만드세요.\n",
        "\n",
        "이 모듈을 사용하여 작성된 함수들을 실제로 임포트하고 사용하는 간단한 프로그램을 작성하세요."
      ]
    },
    {
      "cell_type": "code",
      "execution_count": 35,
      "metadata": {
        "id": "l8QoFnI4zA0P"
      },
      "outputs": [],
      "source": [
        "# mymath.py\n",
        "\n",
        "def triangle_area(base, height):\n",
        "    return 0.5 * base * height\n",
        "\n",
        "def circle_area(radius):\n",
        "    return 3.14 * radius ** 2\n",
        "\n",
        "def cuboid_area(length, width, height):\n",
        "    return 2 * (length * width + width * height + length * height)\n"
      ]
    },
    {
      "cell_type": "code",
      "execution_count": null,
      "metadata": {
        "id": "qP8qu5RozA0P"
      },
      "outputs": [],
      "source": [
        "from mymath import triangle_area, circle_area, cuboid_area\n",
        "\n",
        "numbers = [1, 2, 3, 4, 5]\n",
        "\n",
        "print(\"triangle_area:\", triangle_area(3, 4))\n",
        "print(\"circle_area:\", circle_area(5))\n",
        "print(\"cuboid_area:\", cuboid_area(2, 3, 4))"
      ]
    },
    {
      "cell_type": "markdown",
      "metadata": {
        "id": "1TR2nWSkzA0P"
      },
      "source": [
        "---"
      ]
    },
    {
      "cell_type": "markdown",
      "metadata": {
        "id": "oob-68iszA0P"
      },
      "source": [
        "[문제 9]\n",
        "\n",
        "animals라는 패키지를 만들고, 이 패키지 내에 mammals, birds라는 두 개의 서브 모듈을 생성하세요.\n",
        "\n",
        "- 각 모듈에는 최소한 한 개 이상의 동물에 관한 클래스를 정의하세요<br>\n",
        "  (예: mammals에는 Dog, birds에는 Eagle)\n",
        "- 이 패키지와 모듈을 사용하여 동물들의 정보를 출력하는 프로그램을 작성\n",
        "\n",
        "폴더 및 파일 구조\n",
        "```\n",
        "animals/(폴더)\n",
        "├── __init__.py\n",
        "├── mammals.py\n",
        "└── birds.py\n",
        "```\n"
      ]
    },
    {
      "cell_type": "code",
      "execution_count": null,
      "metadata": {
        "id": "hEX25NMMzA0Q"
      },
      "outputs": [],
      "source": [
        "# mammals.py\n",
        "\n",
        "def sound():\n",
        "    return \"dog sound\""
      ]
    },
    {
      "cell_type": "code",
      "execution_count": null,
      "metadata": {
        "id": "fBimAtX3zA0Q"
      },
      "outputs": [],
      "source": [
        "# birds.py\n",
        "\n",
        "def sound():\n",
        "    return \"Eagle sound\""
      ]
    },
    {
      "cell_type": "code",
      "execution_count": null,
      "metadata": {
        "id": "zmIlh01YzA0Q"
      },
      "outputs": [],
      "source": [
        "# 출력 프로그램\n",
        "\n",
        "import animals.mammals as dog\n",
        "import animals.birds as Eagle\n",
        "\n",
        "print(\"dog:\", dog_sound())\n",
        "print(\"Eagle:\", Eagle_sound())"
      ]
    },
    {
      "cell_type": "markdown",
      "metadata": {
        "id": "cLNNWaSlzA0Q"
      },
      "source": [
        "---"
      ]
    }
  ],
  "metadata": {
    "language_info": {
      "name": "python"
    },
    "colab": {
      "provenance": [],
      "include_colab_link": true
    },
    "kernelspec": {
      "name": "python3",
      "display_name": "Python 3"
    }
  },
  "nbformat": 4,
  "nbformat_minor": 0
}